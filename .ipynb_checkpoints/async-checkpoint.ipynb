{
 "cells": [
  {
   "cell_type": "code",
   "execution_count": 1,
   "metadata": {
    "collapsed": false
   },
   "outputs": [
    {
     "name": "stdout",
     "output_type": "stream",
     "text": [
      "> copy_to_local 2\n",
      "< copy_to_local 2\n",
      "> convert 2\n",
      "< convert 2\n",
      "> copy_to_remote 2\n",
      "< copy_to_remote 2\n",
      "done\n"
     ]
    }
   ],
   "source": [
    "import asyncio\n",
    "import random\n",
    "\n",
    "q = [1,2]\n",
    "\n",
    "async def copy_to_local(i):\n",
    "    print('> copy_to_local {}'.format(i))\n",
    "    await asyncio.sleep(random.random())\n",
    "    print('< copy_to_local {}'.format(i))\n",
    "    \n",
    "async def copy_to_remote(queue_out):\n",
    "    while True:\n",
    "        i = await queue_out.get()\n",
    "        if i is None:\n",
    "            break\n",
    "        print('> copy_to_remote {}'.format(i))\n",
    "        await asyncio.sleep(random.random())\n",
    "        print('< copy_to_remote {}'.format(i))\n",
    "    \n",
    "async def convert(i):\n",
    "    print('> convert {}'.format(i))\n",
    "    await asyncio.sleep(5)\n",
    "    print('< convert {}'.format(i))\n",
    "\n",
    "async def produce(queue):\n",
    "    for i in q:\n",
    "        await copy_to_local(i)\n",
    "        await queue.put(i)\n",
    "    await queue.put(None)\n",
    "\n",
    "async def consume(queue, queue_out):\n",
    "    while True:\n",
    "        i = await queue.get()\n",
    "        if i is None:\n",
    "            await queue_out.put(None)\n",
    "            break\n",
    "        await convert(i)\n",
    "        await queue_out.put(i)\n",
    "\n",
    "loop = asyncio.get_event_loop()\n",
    "queue = asyncio.Queue(maxsize=1, loop=loop)\n",
    "queue_out = asyncio.Queue(loop=loop)\n",
    "producer_coro = produce(queue)\n",
    "consumer_coro = consume(queue, queue_out)\n",
    "coput_out_coro = copy_to_remote(queue_out)\n",
    "loop.run_until_complete(asyncio.gather(producer_coro, consumer_coro, coput_out_coro))\n",
    "loop.close()\n",
    "print('done')"
   ]
  },
  {
   "cell_type": "code",
   "execution_count": null,
   "metadata": {
    "collapsed": true
   },
   "outputs": [],
   "source": []
  }
 ],
 "metadata": {
  "kernelspec": {
   "display_name": "Python [conda root]",
   "language": "python",
   "name": "conda-root-py"
  },
  "language_info": {
   "codemirror_mode": {
    "name": "ipython",
    "version": 3
   },
   "file_extension": ".py",
   "mimetype": "text/x-python",
   "name": "python",
   "nbconvert_exporter": "python",
   "pygments_lexer": "ipython3",
   "version": "3.5.2"
  }
 },
 "nbformat": 4,
 "nbformat_minor": 2
}
